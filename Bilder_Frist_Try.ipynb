{
 "cells": [
  {
   "cell_type": "code",
   "execution_count": 4,
   "id": "ea169cc9-6b09-4af6-9b71-d1808bda30b6",
   "metadata": {},
   "outputs": [],
   "source": [
    "import numpy as np\n",
    "from PIL import Image\n",
    "import matplotlib.pyplot as plt\n",
    "\n",
    "def load_image_as_np_array(path):\n",
    "    img = Image.open(path)\n",
    "    return np.array(img)\n",
    "\n",
    "def show_image_from_array(array):\n",
    "    plt.imshow(array)\n",
    "    \n",
    "def create_mask(size_x, size_y, n=1, blocked_abs=None, blocked_rel=0.05):\n",
    "    mask = np.zeros((n, size_x, size_y))\n",
    "    return mask"
   ]
  },
  {
   "cell_type": "code",
   "execution_count": null,
   "id": "178e16aa-ca37-4329-b9ad-3eceee01be5a",
   "metadata": {},
   "outputs": [],
   "source": []
  }
 ],
 "metadata": {
  "kernelspec": {
   "display_name": "Python 3 (ipykernel)",
   "language": "python",
   "name": "python3"
  },
  "language_info": {
   "codemirror_mode": {
    "name": "ipython",
    "version": 3
   },
   "file_extension": ".py",
   "mimetype": "text/x-python",
   "name": "python",
   "nbconvert_exporter": "python",
   "pygments_lexer": "ipython3",
   "version": "3.9.7"
  }
 },
 "nbformat": 4,
 "nbformat_minor": 5
}
